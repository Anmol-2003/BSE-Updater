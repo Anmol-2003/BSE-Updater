{
 "cells": [
  {
   "cell_type": "code",
   "execution_count": 13,
   "metadata": {},
   "outputs": [
    {
     "data": {
      "text/plain": [
       "True"
      ]
     },
     "execution_count": 13,
     "metadata": {},
     "output_type": "execute_result"
    }
   ],
   "source": [
    "from langchain_community.document_loaders import PyPDFLoader\n",
    "import tqdm\n",
    "import os\n",
    "from dotenv import load_dotenv\n",
    "from langchain_huggingface import HuggingFaceEmbeddings\n",
    "from langchain.text_splitter import RecursiveCharacterTextSplitter\n",
    "from langchain_groq import ChatGroq\n",
    "from langchain_chroma import Chroma\n",
    "from langchain_experimental.text_splitter import SemanticChunker\n",
    "\n",
    "load_dotenv()"
   ]
  },
  {
   "cell_type": "code",
   "execution_count": 10,
   "metadata": {},
   "outputs": [
    {
     "name": "stdout",
     "output_type": "stream",
     "text": [
      "Collecting langchain-experimental\n",
      "  Downloading langchain_experimental-0.0.64-py3-none-any.whl.metadata (1.7 kB)\n",
      "Collecting langchain-community<0.3.0,>=0.2.10 (from langchain-experimental)\n",
      "  Downloading langchain_community-0.2.11-py3-none-any.whl.metadata (2.7 kB)\n",
      "Collecting langchain-core<0.3.0,>=0.2.27 (from langchain-experimental)\n",
      "  Downloading langchain_core-0.2.28-py3-none-any.whl.metadata (6.2 kB)\n",
      "Requirement already satisfied: PyYAML>=5.3 in .\\virtual_env\\lib\\site-packages (from langchain-community<0.3.0,>=0.2.10->langchain-experimental) (6.0.1)\n",
      "Requirement already satisfied: SQLAlchemy<3,>=1.4 in .\\virtual_env\\lib\\site-packages (from langchain-community<0.3.0,>=0.2.10->langchain-experimental) (2.0.31)\n",
      "Requirement already satisfied: aiohttp<4.0.0,>=3.8.3 in .\\virtual_env\\lib\\site-packages (from langchain-community<0.3.0,>=0.2.10->langchain-experimental) (3.9.5)\n",
      "Requirement already satisfied: dataclasses-json<0.7,>=0.5.7 in .\\virtual_env\\lib\\site-packages (from langchain-community<0.3.0,>=0.2.10->langchain-experimental) (0.6.7)\n",
      "Collecting langchain<0.3.0,>=0.2.12 (from langchain-community<0.3.0,>=0.2.10->langchain-experimental)\n",
      "  Downloading langchain-0.2.12-py3-none-any.whl.metadata (7.1 kB)\n",
      "Requirement already satisfied: langsmith<0.2.0,>=0.1.0 in .\\virtual_env\\lib\\site-packages (from langchain-community<0.3.0,>=0.2.10->langchain-experimental) (0.1.83)\n",
      "Requirement already satisfied: numpy<2,>=1 in .\\virtual_env\\lib\\site-packages (from langchain-community<0.3.0,>=0.2.10->langchain-experimental) (1.26.4)\n",
      "Requirement already satisfied: requests<3,>=2 in .\\virtual_env\\lib\\site-packages (from langchain-community<0.3.0,>=0.2.10->langchain-experimental) (2.32.3)\n",
      "Requirement already satisfied: tenacity!=8.4.0,<9.0.0,>=8.1.0 in .\\virtual_env\\lib\\site-packages (from langchain-community<0.3.0,>=0.2.10->langchain-experimental) (8.4.2)\n",
      "Requirement already satisfied: jsonpatch<2.0,>=1.33 in .\\virtual_env\\lib\\site-packages (from langchain-core<0.3.0,>=0.2.27->langchain-experimental) (1.33)\n",
      "Requirement already satisfied: packaging<25,>=23.2 in .\\virtual_env\\lib\\site-packages (from langchain-core<0.3.0,>=0.2.27->langchain-experimental) (24.1)\n",
      "Requirement already satisfied: pydantic<3,>=1 in .\\virtual_env\\lib\\site-packages (from langchain-core<0.3.0,>=0.2.27->langchain-experimental) (2.8.2)\n",
      "Requirement already satisfied: typing-extensions>=4.7 in .\\virtual_env\\lib\\site-packages (from langchain-core<0.3.0,>=0.2.27->langchain-experimental) (4.12.2)\n",
      "Requirement already satisfied: aiosignal>=1.1.2 in .\\virtual_env\\lib\\site-packages (from aiohttp<4.0.0,>=3.8.3->langchain-community<0.3.0,>=0.2.10->langchain-experimental) (1.3.1)\n",
      "Requirement already satisfied: attrs>=17.3.0 in .\\virtual_env\\lib\\site-packages (from aiohttp<4.0.0,>=3.8.3->langchain-community<0.3.0,>=0.2.10->langchain-experimental) (23.2.0)\n",
      "Requirement already satisfied: frozenlist>=1.1.1 in .\\virtual_env\\lib\\site-packages (from aiohttp<4.0.0,>=3.8.3->langchain-community<0.3.0,>=0.2.10->langchain-experimental) (1.4.1)\n",
      "Requirement already satisfied: multidict<7.0,>=4.5 in .\\virtual_env\\lib\\site-packages (from aiohttp<4.0.0,>=3.8.3->langchain-community<0.3.0,>=0.2.10->langchain-experimental) (6.0.5)\n",
      "Requirement already satisfied: yarl<2.0,>=1.0 in .\\virtual_env\\lib\\site-packages (from aiohttp<4.0.0,>=3.8.3->langchain-community<0.3.0,>=0.2.10->langchain-experimental) (1.9.4)\n",
      "Requirement already satisfied: async-timeout<5.0,>=4.0 in .\\virtual_env\\lib\\site-packages (from aiohttp<4.0.0,>=3.8.3->langchain-community<0.3.0,>=0.2.10->langchain-experimental) (4.0.3)\n",
      "Requirement already satisfied: marshmallow<4.0.0,>=3.18.0 in .\\virtual_env\\lib\\site-packages (from dataclasses-json<0.7,>=0.5.7->langchain-community<0.3.0,>=0.2.10->langchain-experimental) (3.21.3)\n",
      "Requirement already satisfied: typing-inspect<1,>=0.4.0 in .\\virtual_env\\lib\\site-packages (from dataclasses-json<0.7,>=0.5.7->langchain-community<0.3.0,>=0.2.10->langchain-experimental) (0.9.0)\n",
      "Requirement already satisfied: jsonpointer>=1.9 in .\\virtual_env\\lib\\site-packages (from jsonpatch<2.0,>=1.33->langchain-core<0.3.0,>=0.2.27->langchain-experimental) (3.0.0)\n",
      "Requirement already satisfied: langchain-text-splitters<0.3.0,>=0.2.0 in .\\virtual_env\\lib\\site-packages (from langchain<0.3.0,>=0.2.12->langchain-community<0.3.0,>=0.2.10->langchain-experimental) (0.2.2)\n",
      "Requirement already satisfied: orjson<4.0.0,>=3.9.14 in .\\virtual_env\\lib\\site-packages (from langsmith<0.2.0,>=0.1.0->langchain-community<0.3.0,>=0.2.10->langchain-experimental) (3.10.6)\n",
      "Requirement already satisfied: annotated-types>=0.4.0 in .\\virtual_env\\lib\\site-packages (from pydantic<3,>=1->langchain-core<0.3.0,>=0.2.27->langchain-experimental) (0.7.0)\n",
      "Requirement already satisfied: pydantic-core==2.20.1 in .\\virtual_env\\lib\\site-packages (from pydantic<3,>=1->langchain-core<0.3.0,>=0.2.27->langchain-experimental) (2.20.1)\n",
      "Requirement already satisfied: charset-normalizer<4,>=2 in .\\virtual_env\\lib\\site-packages (from requests<3,>=2->langchain-community<0.3.0,>=0.2.10->langchain-experimental) (3.3.2)\n",
      "Requirement already satisfied: idna<4,>=2.5 in .\\virtual_env\\lib\\site-packages (from requests<3,>=2->langchain-community<0.3.0,>=0.2.10->langchain-experimental) (3.7)\n",
      "Requirement already satisfied: urllib3<3,>=1.21.1 in .\\virtual_env\\lib\\site-packages (from requests<3,>=2->langchain-community<0.3.0,>=0.2.10->langchain-experimental) (2.2.2)\n",
      "Requirement already satisfied: certifi>=2017.4.17 in .\\virtual_env\\lib\\site-packages (from requests<3,>=2->langchain-community<0.3.0,>=0.2.10->langchain-experimental) (2024.7.4)\n",
      "Requirement already satisfied: greenlet!=0.4.17 in .\\virtual_env\\lib\\site-packages (from SQLAlchemy<3,>=1.4->langchain-community<0.3.0,>=0.2.10->langchain-experimental) (3.0.3)\n",
      "Requirement already satisfied: mypy-extensions>=0.3.0 in .\\virtual_env\\lib\\site-packages (from typing-inspect<1,>=0.4.0->dataclasses-json<0.7,>=0.5.7->langchain-community<0.3.0,>=0.2.10->langchain-experimental) (1.0.0)\n",
      "Downloading langchain_experimental-0.0.64-py3-none-any.whl (204 kB)\n",
      "Downloading langchain_community-0.2.11-py3-none-any.whl (2.3 MB)\n",
      "   ---------------------------------------- 0.0/2.3 MB ? eta -:--:--\n",
      "   ---------------------------------------- 2.3/2.3 MB 21.7 MB/s eta 0:00:00\n",
      "Downloading langchain_core-0.2.28-py3-none-any.whl (379 kB)\n",
      "Downloading langchain-0.2.12-py3-none-any.whl (990 kB)\n",
      "   ---------------------------------------- 0.0/990.6 kB ? eta -:--:--\n",
      "   --------------------------------------- 990.6/990.6 kB 45.5 MB/s eta 0:00:00\n",
      "Installing collected packages: langchain-core, langchain, langchain-community, langchain-experimental\n",
      "  Attempting uninstall: langchain-core\n",
      "    Found existing installation: langchain-core 0.2.19\n",
      "    Uninstalling langchain-core-0.2.19:\n",
      "      Successfully uninstalled langchain-core-0.2.19\n",
      "  Attempting uninstall: langchain\n",
      "    Found existing installation: langchain 0.2.6\n",
      "    Uninstalling langchain-0.2.6:\n",
      "      Successfully uninstalled langchain-0.2.6\n",
      "  Attempting uninstall: langchain-community\n",
      "    Found existing installation: langchain-community 0.2.6\n",
      "    Uninstalling langchain-community-0.2.6:\n",
      "      Successfully uninstalled langchain-community-0.2.6\n",
      "Successfully installed langchain-0.2.12 langchain-community-0.2.11 langchain-core-0.2.28 langchain-experimental-0.0.64\n"
     ]
    }
   ],
   "source": [
    "!pip install langchain-experimental"
   ]
  },
  {
   "cell_type": "code",
   "execution_count": 37,
   "metadata": {},
   "outputs": [],
   "source": [
    "loader = PyPDFLoader('sample1.pdf')\n",
    "documents = loader.load()"
   ]
  },
  {
   "cell_type": "markdown",
   "metadata": {},
   "source": [
    "OPENAI"
   ]
  },
  {
   "cell_type": "code",
   "execution_count": 6,
   "metadata": {},
   "outputs": [],
   "source": [
    "# os.environ['OPENAI-KEY'] = os.getenv('OPENAI_KEY')\n",
    "# openai = ChatOpenAI(model='gpt-3.5-turbo', api_key=os.environ['OPENAI-KEY'])"
   ]
  },
  {
   "cell_type": "markdown",
   "metadata": {},
   "source": [
    "HuggingFace "
   ]
  },
  {
   "cell_type": "code",
   "execution_count": 7,
   "metadata": {},
   "outputs": [],
   "source": [
    "##"
   ]
  },
  {
   "cell_type": "markdown",
   "metadata": {},
   "source": [
    "GROQ LLAMA-3"
   ]
  },
  {
   "cell_type": "code",
   "execution_count": 29,
   "metadata": {},
   "outputs": [],
   "source": [
    "os.environ['GROQ_API_KEY'] = os.getenv('GROQ_KEY')\n",
    "groq_model = ChatGroq(name='llama3-8b-8192', api_key=os.environ['GROQ_API_KEY'], temperature=0.75)"
   ]
  },
  {
   "cell_type": "markdown",
   "metadata": {},
   "source": [
    "Splitting the document"
   ]
  },
  {
   "cell_type": "code",
   "execution_count": 38,
   "metadata": {},
   "outputs": [],
   "source": [
    "text_splitter = RecursiveCharacterTextSplitter(chunk_size = 4000, chunk_overlap = 250)\n",
    "# text_splitter = SemanticChunker()\n",
    "docs = text_splitter.split_documents(documents)"
   ]
  },
  {
   "cell_type": "code",
   "execution_count": 39,
   "metadata": {},
   "outputs": [
    {
     "data": {
      "text/plain": [
       "[Document(metadata={'source': 'sample1.pdf', 'page': 0}, page_content='To,\\t \\t\\t\\t\\t\\t\\t\\t\\t Date:\\tMay\\t24,\\t2024\\t\\nDeputy\\tGeneral \\tManager \\t\\nDept.\\tof\\tCorporate \\tServices, \\t\\nBSE\\tLimited \\t\\nP\\tJ\\tTowers,\\t Dalal\\tStreet,\\t\\nMumbai ‐\\t400021. \\t\\n Ref:\\tScrip\\tCode\\tNo.:\\t511463 \\t(BSE)\\t\\n \\nSub:\\tOutcome \\tof\\tthe\\tBoard\\tMeeting\\theld\\ton\\tMay\\t24,\\t2024\\t–\\tApproval \\tof\\tAudited\\t\\nAnnual\\tFinancial \\tStatements\\t &\\tAudited\\tFi\\n nancial\\tResults\\tof\\tthe\\tCompany \\tfor\\tthe\\t\\nFinancial \\tYear\\tended\\tMarch\\t31,\\t2024(2023 ‐24)\\t\\n \\nListing\\tRegulation: \\tDisclosure \\tunder\\tReg\\t30read\\twith\\tPara\\tA(4)\\t of\\tPart\\tA\\tof\\t\\nSchedule \\tIII,\\tReg.\\t33\\t&\\tall\\tthe\\tapplicable \\tRegulations, \\tif\\tany,\\tof\\tthe\\tSEBI\\t(LODR)\\t\\nRegulations, \\t2015(Listing \\tRegulations) \\tas\\tamended\\tfrom \\ttime\\tto\\tti me. \\t\\n_________________________________________________________________________________________________ \\t\\n\\tDear Sir/Madam,   With reference to the above-mentioned subjec t, Board of Directors at their meeting, \\ncommenced at 05:00 PM and concluded at  07:45 PM, have considered, discussed \\nand approved the following agenda item:  \\n1. The Board has approved Audited Financ ial Statements (Standalone) for the \\nFinancial Year ended 31 st March, 2024(2023-24). \\n2. The Board has approved Audited Financial Results (Standalone) for the Fourth Quarter and Financial Year ended March 31, 2024(2023-24). \\n We hereby attach Audited Financials, Auditors’ Report and Declaration pursuant to \\nReg 30(3)(d) of the SEBI (LODR) Regulations, 2015 as Annexure \\tA,\\tB\\tand\\tC, \\nrespectively.'),\n",
       " Document(metadata={'source': 'sample1.pdf', 'page': 1}, page_content='The above information is also being made available on the Company’s website at \\nwww.alexanderstamps.in . \\n \\n You are requested to take note of above an d bring the same to the notice of investors \\nand members.   \\nThanking you,  \\n Yours Sincerely,  \\n \\nFor\\tALEXANDER\\tSTAMPS \\tAND\\tCOIN\\tLIMITED \\t\\n \\n \\n_______________________ \\t\\nPranali\\tDholabhai \\t\\nCompliance \\tOfficer\\t\\t\\t\\t\\t\\t\\t\\nPlace:\\tVadodara'),\n",
       " Document(metadata={'source': 'sample1.pdf', 'page': 2}, page_content='M Sahu & CO. \\nClmrtorod AccounlBntr, \\n521 K10 Grand Behind Atlantis K10 \\nSerabhal Capmus Vadodera-390023. \\nAuditor\\'s Report on audit or the Annual Flmmclal Results or the Alexander Sramps & Coins \\nLimited pursuant to Regulation 33 of the SBDI (Listing Obllgatlons and Disclosure \\nRequirements) Regulations, 2015 \\nTo Board of Directors of \\nAlexander Stamps & Coins Limited \\nReport on the Audit of Standalone nnanclal results \\nDisclaimer of Opinion \\nWe were engaged to audit the accompanying standalone financial Results (\\'Statement\\') of \\nAlexander Stamps & Coins Limited (\\'the Company\\') for the quarter ended 31st March 2024 and \\nthe year-to-date results for the period from 1st April 2023 to 31st March 2024 attached herewith, \\nbeing submitted by the company pursuant to the requirement of Regulation 33 of the Securities \\nand Exchange Board of India (Listing Obligations and Disclosure Requirements) Regulations, 2015 \\nfLlsting Regulations\\'). \\nWe do not express an opinion on aforesaid standalone financial Results because of the substantive \\nnature of the matters stated In paragraph \\'Basis for disclaimer of Opinion\\', below for which we \\nhave not been able to obtain sufficient and appropriate audit evidence. Further, we arc unable to \\nstate whether the accompanying Statement has been prepared in accordance with the applicable \\naccounting standards and other recognized accounting practices and policies or that the \\nStatement discloses the information required to be disclosed in terms of Regulation 33 of the \\nListing Regulations including the manner in which it is to be disclosed, or that it contains any \\nmaterial misstatement \\nBasis for disclaimer of Opinion \\n1. We draw attention to the Note No 3 to the Financial Results, with respect to the \\nInvestments as stated in Non-Current Investments amounting to Rs. 113.67 /· Lakhs, the \\nrequisite documents with respect to this investment are not available with the Company, \\n1n the absence of sufficient information, the Management has also not provided for any \\nImpairment fort.he same and in turn we are unable to comment on the carrying value of \\nInvestment made by the Company and the consequent impact thereof on Other \\nComprehensive Income. \\n2. We draw attention to the Note No 4 to the Financial Results, in respect of the Outstanding \\nIncome Tax demand for the Assessment Year 2017-2018, amounting to Rs.344.56/- Lakhs, \\nfor which the Company has neither filed any appeal nor created any provision In the books \\nof accounts. \\n3. We draw attention to the Note No 5 to the Financial Results, the inventory valuation as on \\n31.03.2024 include Inventories amounting to Rs.1641.62/· Lakh valued as per Va Ud\\'l\"l\\'t7W... \\nreport dated 81h May 2023, stating valuation as on 31st March 2023 Consequent \\nrelied upon for the valuation of the inventories as on 31st March ,2024 also. we • \\n:T \\nal ?! ,E \\nC)l\\'l (\\' \\nO(J Acd?.,s \\n,, . , \\') I B!i I 14 CJ 14!,0 0 wwv, 111·,ahu co 111 [>-<i n,;inoJ(,nmJahu.co.m \\nAnnexure A'),\n",
       " Document(metadata={'source': 'sample1.pdf', 'page': 3}, page_content='M Sahu & CO. \\nChartaroo Accountants \\nto nsccrtnln the Impact due to deviation In Inventory valuation on the Ind /\\\\S Plnandal \\nstJtcmcnts ns on 3 ·1.03.2024. \\nEmplmsls cf r.1nt1cr \\na. We draw attention to the Note No 6 to the financial results that due to non-payment of \\nIncome tax demand and filling of appeal against the demand for the Assessment Year 2017-\\n2018, CBDT Freeze the bank account of company. \\nMaterial Uncertainty Related to Going Concern \\nThe Financial Statements in respect of the Non-moving Inventories amounting to Rs. 1641.62/\\xad\\nLakh, which comprises of the 92.83% of tJ1c total assets of the company. Non-moving inventories \\nalong wlth other matters set forth in the \"Basis of Qualified Opinion\" section above indicate the \\nexistence of material uncertainty that may cast significant doubt about the Company\\'s ability to \\ncontinue as a going concern. However, In view of mitigating factors Including business plan, the \\nmanagement is of the view that going concern basis of accounting is appropriate. Our opinion is \\nnot modified in respect of this matters. \\nManagement\\'s Responsibilities for the Standalone Financial Results \\nThese Standalone quarterly financial results as well as the year-to-date standalone financial \\nresults have been prepared on the basis of reviewed quarterly financial results upto the end of the \\nthird quarter. The Company\\'s Board of Directors are responsible for the preparation of these \\nfinancial results that give a true and fair view of the net profit/loss and other comprehensive \\nincome and other financial information in accordance with the recognition and measurement \\nprinciples laid down in Indian Accounting Standards prescribed under Section 133 of the Act read \\nwith relevant rules issued thereunder and the accounting principles generally accepted In India \\nand in compliance with Regulation 33 of the Listing Regulations. \\nThis responsibility also includes maintenance of adequate accounting records in accordance with \\nthe provisions of the Act for safeguarding of the assets of the company and for preventing and \\ndetecting frauds and other irregularities; selection and application of appropriate accounting \\npolicies; making judgments and estimates that arc reasonable and prudent; and design, \\nimplementation and maintenance of adequate internal financial controls that were operating \\neffectively for ensuring the accuracy and completeness of the accounting records, relevant to the \\npreparation and presentation of the standalone financial results that give a true and fair view and \\nare free from material misstatement, whether due to fraud or error. \\nIn preparing the standalone financial results, the Board of Directors are responsible for assessing \\nthe Company\\'s ability to continue as a going concern, disclosing, as applicable, matters related to \\ngoing concern and using the going concern basis of accounting unless the Board of Directors either \\nintends to liquidate the Company or to cease operations, or has no realistic alternati do \\nso. 8 • 0 n ·, \\n~ VADODA 2 \\n\\'1, ; \\'< ...._ ,~ \"-- ~\\'-'),\n",
       " Document(metadata={'source': 'sample1.pdf', 'page': 4}, page_content='M Sahu & CO. \\nChartered Accounlanls \\nThl\\' Do.ire! of Directors aro nlso responsible for overseeing thl\\' Company\\'s financial reporting \\nprocess. \\nAuditors Rcsponslbllltlcs ror the Audit or u,c Stnndalonc Financial Results \\nOur responsibility Is to conduct an audit of the standalone financial Results In accordance with \\nStandards on Auditing and to issue an auditor\\'s report However, because of the matter described \\nIn the Paragraph \"Basis for Disclaimer of Opinion\" of our report. we were not able to obtain \\nsufficient appropriate audit evidence to provide a basis for an audit opinion on these Statements. \\nWe are independent in accordance with the ethical requirements In accordance with the Code of \\nethics and provisions of the Act. that are relevant to our audit of the standalone financial results \\nand we have fulfilled our other ethical responsibilities In accordance with the code of ethics and \\nthe requirements under the Act \\nOther Matter \\nAttention 1s drawn to the fact that the figures for the quarter ended 31st March 2024 and the \\ncorresponding quarter ended In the previous year as reported in these Annual Standalone \\nFinancial Results are the balancing figure between audited figure in respect of the full financial \\nyear and published year to date figures up to the end of the third quarter of the relevant financial \\nyear. Also, figures up to the end of the third quarter had only been reviewed and not subject to \\naudit \\nFor M Sahu & Co \\nChartered Accountants \\nFinn Registration No: 130001 W e:,ahu ~ \\nMANOJKUMAR ~=~ ~a9• \\nSHIVKISHOR SAHU ~~2024.osi••~• ◄s<-OS\"Ja ~ VADOD f \\n\\'j! :-.; \\nPartner (Manojkumar Sahu) o\"e 0~<:.-\\nMembership No: 132623 ti Ace \\nUDIN: 24132623BKELIF1383 Date: 24/05/2024 \\nPlace: Vadodara'),\n",
       " Document(metadata={'source': 'sample1.pdf', 'page': 5}, page_content='Phone No:02656569067 Website: www.alexanderstamps.in Email ID: cs.alexanderstamps@gmail.com\\n(Rs. In Lakhs)\\n 31.03.2024 31.12.2023 31.03.2023 31.03.2024 31.03.2023\\n (Audited) (Unaudited) (Audited) (Audited) (Audited)\\n1 Income \\n Revenue from operations                       12.83                                 11.32               15.20               36.25                     55.05 \\n Other Income                              -                                          -                         -                         -                               -   \\n Total Revenue                     12.83                                11.32              15.20              36.25                     55.05 \\n2 Expenses \\n(a) Changes in inventories of finished goods, WIP                         5.12                                 (1.33)             (13.19)                       -                          1.79 \\n (b) Purchases of Traded Goods                      12.60                                 10.37               24.74               36.10                     40.46 \\n (c) Employee Benefit Expenses                              -                                          -                         -                         -                          1.98 \\n(d) Finance Cost                              -                                          -                         -                         -                          0.14 \\n (e) Depreciation and amortisation expense                         0.63                                   0.63                  0.53                  2.52                        2.10 \\n (f) Other expenses                          2.30 1.89                 2.19                  7.47                     10.28 \\nTotal expenses                     20.66                                11.57              14.26              46.10                     56.74 \\n3 Profit Before Tax                      (7.83)                                (0.26)                 0.94              (9.85)                     (1.69)\\n4 Tax expense \\n 1) Current Tax                              -                                          -                         -                         -                               -   \\n 2)  Deferred Tax                              -                                          -                         -                         -                          0.01 \\n 3) Income Tax of Earlier Year                              -                                          -                         -                         -                          0.34 \\n5  Profit / (Loss) for the period                     (7.83)                                (0.26)                 0.94              (9.85)                     (2.04)\\n6 Other Comprehensive Income/(Loss) \\n Items that will not to be reclassified to profit or loss                              -                                          -                         -                         -   \\n Income tax relating to items that will not be reclassified to \\nprofit or loss                              -                                          -                         -                         -   \\n7Total Comprehensive income for the period                     (7.83)                                (0.26)                 0.59              (9.85)                     (2.04)\\n Paid up Equity Share Capital (Face Value of Rs 10/- each)                   931.20                              931.20            931.20            931.20                   931.20 \\n Earnings per equity share  \\n (a) Basic                                                                                                                       (0.0084)                            (0.0003)                  0.01             (0.011)                     (0.02)\\n (b) Diluted                 (0.0084)                            (0.0003)                  0.01             (0.011)                     (0.02)\\n NOTES :  \\n1\\n2\\n3\\n4\\n5\\n6'),\n",
       " Document(metadata={'source': 'sample1.pdf', 'page': 5}, page_content='(b) Diluted                 (0.0084)                            (0.0003)                  0.01             (0.011)                     (0.02)\\n NOTES :  \\n1\\n2\\n3\\n4\\n5\\n6\\nFor Alexander Stamps & Coin Limited\\nAnirudh Sethi\\nManaging Director\\nDIN:06864789\\nPlace: Vadodara Place: Vadodara\\nDate: 24/05/2024 Date: 24/05/2024STATEMENT OF STANDALONE AUDITED FINANCIAL RESULTS FOR QUARTER AND YEAR ENDED MARCH 31 2024.\\nThe above result has been audited by Statutory auditor, recommended by audit committee and approved by the Board of Director of the CompanyAlexander Stamps & Coin Limited\\nCIN: L74110GJ1992PLC083816\\nRegd.Office : SF-7, Silver Rock  Complex, Nr. Dairy Teen Rasta, Manjalpur, Vadodara-390010, Gujarat, India.\\nQuarter Ended Year Ended\\nDue to non-payment of income tax demand and filling of appeal against the demand for the Assessment Year 2017-2018, CBDT Freeze the bank\\naccount of company. Investments as stated in Non-Current Investments amounting to INR 113.67/- Lakhs, the requisite documents with respect to this investment are\\nnot available with the Company, in the absence of sufficient information, the Management has also not provided for any Impairment for the same\\nand in turn we are unable to comment on the carrying value of Investment made by the Company and the consequent impact thereof on Other\\nComprehensive Income.Sr \\nNoParticulars \\nThe previous period figures have been regrouped/reclassified wherever necessary to confirm to the classification for this quarter.\\nOutstanding Income Tax demand for the Assessment Year 2017-2018, amounting to INR 344.56 Lakhs, for which the Company has neither filed\\nany appeal nor created any provision in the books of accounts.\\nThe inventoryvaluation amounting to Rs.1641.62/- Lakh valued as per Valuation report dated 16th May2023, stating valuation as on 31st March\\n2023. Consequently, we had relied upon for the valuation of the inventories as on 31st March ,2024 also.Annexure B'),\n",
       " Document(metadata={'source': 'sample1.pdf', 'page': 6}, page_content='Rs. In Lakhs\\nParticularsAs at 31st March, \\n2024As at 31st March, 2023\\nAudited Audited\\nA ASSETS\\n1Non-current assets\\nProperty, plant and equipment 5.58                          8.10                                               \\nCapital Work-in-Progress -                            -                                                 \\nIntangible Assets -                            -                                                 \\nFinancial assets\\n- Investments 113.67                     113.67                                          \\n- Loans 0.80                          -                                                 \\n- Trade Receivable. -                            -                                                 \\nDeferred tax assets (net) -                            -                                                 \\nOther non-current assets -                            -                                                 \\nTotal Non-current assets 120.05 121.77                                         \\n2Current assets\\nInventories 1,641.62                 1,641.62                                       \\nFinancial assets\\n- Loans -                            -                                                 \\n- Trade receivables -                            -                                                 \\n- Cash and cash equivalents 2.58                          5.44                                               \\nOther current assets 4.23                          3.31                                               \\nTotal - Current assets 1,648.44 1,650.37                                      \\nTOTAL - ASSETS 1,768.49 1,772.16                                      \\nBEQUITY AND LIABILITIES\\n1 Equity\\nEquity Share capital 931.20                     931.20                                          \\nOther Equity 751.91                     761.77                                          \\nTotal - Equity 1,683.11 1,692.97                                      \\n2 LIABILITIES\\nNon-current liabilities\\nFinancial liabilities\\n- Borrowings 3.00                          3.00                                               \\n- Trade payables -                            -                                                 \\n- Other financial liabilities -                            -                                                 \\nOther Non-current liabilities 21.08                        -                                                 \\nDefferred Tax Liabiliites -                            -                                                 \\nTotal - Non-current liabilities 24.08 3.00                                              \\n3Current liabilities\\nFinancial liabilities\\n- Borrowings -                            -                                                 \\n- Trade payables 59.50                        55.11                                             \\n- Other financial liabilities -                            -                                                 \\nOther current liabilities 1.80                          -                                                 \\nShort Term Provisions -                            -                                                 \\nCurrent Tax Liabilities (Net) -                            21.08                                             \\nTotal - Current liabilities 61.30 76.19                                            \\nTOTAL - EQUITY AND LIABILITIES 1,768.49 1,772.16                                      \\nFor Alexander Stamps & Coin Limited\\nAnirudh Sethi\\nManaging Director\\nDIN:06864789\\nPlace: Vadodara Place: Vadodara\\nDate: 24/05/2024 Date: 24/05/2024Regd.Office : SF-7, Silver Rock  Complex, Nr. Dairy Teen Rasta, Manjalpur, Vadodara-390010, Gujarat, India.CIN: L74110GJ1992PLC083816\\nStatement of Standalone Assets & LiabilitiesAlexander Stamps & Coin Limited'),\n",
       " Document(metadata={'source': 'sample1.pdf', 'page': 7}, page_content=\"For the Year \\nended 31st  \\nMarch 2024For the Year \\nended 31st  \\nMarch 2023\\nA.  Cash Flow from Operating Activities :\\n                 Net Profit before Tax (9.85)                (1.69)                 \\nAdjustments to reconcile profit before tax to net cash flows:\\nDepreciation and Amortisation Expense 2.52                    2.10                    \\nSundry Balances Written Off -                      1.35                    \\n                Operating Profit before Working Capital changes (7.33)                1.76                   \\nMovement in Working Capital :\\n(Increase)/Decrease in Inventories -                      1.80                    \\n(Increase)/Decrease in Trade Receivables -                      -                      \\n(Increase)/Decrease in Other Assets (0.92)                 -                      \\nIncrease/(Decrease) in Trade Payable 4.39                    13.19                 \\nIncrease/(Decrease) in Other Current Liability 1.81                    (14.89)               \\nIncrease/(Decrease) in Provisions -                      -                      \\n                Cash Generated from Operation (2.05)                1.86                   \\nDirect Tax Paid (Net of Refunds) -                      (1.58)                   \\n                Net Cash inflow from/ (outflow) from Operating activities (A) (2.05)                0.28                   \\nB.  Cash Flow from Investing Activities :\\nPurchase of fixed assets -                      (4.97)                   \\nPurchase of Investments -                      -                      \\nInterest received -                      -                      \\nNet Cash inflow from/ (outflow) from Financing activities (B) -                     (4.97)                 \\nC.  Cash Flow from Financing Activities :\\nProceeds / Repayment of Long Term Borrowing -                      -                      \\nProceeds/ Repayment from Loans and Advances (Net) (0.80)                 6.80                    \\nProceeds from Share Application Money -                      -                      \\n                 Net Cash inflow from/ (outflow) from Financing activities ('C) (0.80)                6.80                   \\n                Net increase / (decrease) in cash and cash equivalents (A+B+C) (2.85)                2.11                   \\nCash and Cash Equivalents at the beginning of the year 5.44               3.33               \\nCash and Cash Equivalents at the end of the year 2.58               5.44               \\nComponents of Cash and cash equivalents\\nCash on hand 1.64                4.50                \\nWith Banks\\n- on Current Account 0.94                0.94                \\nCash and Cash equivalents 2.58               5.44               \\nFor Alexander Stamps & Coin Limited\\nAnirudh Sethi\\nManaging Director\\nDIN:06864789\\nPlace: Vadodara Place: Vadodara\\nDate: 24/05/2024 Date: 24/05/2024Alexander Stamps & Coin Limited\\nStandalone Statement of Cash Flow for the year ended March 31, 2024\\nParticulars\"),\n",
       " Document(metadata={'source': 'sample1.pdf', 'page': 8}, page_content='AnnexureC \\nTo, Date:May24,2024\\nBSELTD\\nCorporateRelationshipDepartment,\\nDeputyGeneralManager\\n27thFloor,PJTowers,DalalStreet,\\nMumbai 400001.\\n \\nRef:ScripCodeNo.:511463(BSE)\\nKindAttn.:Dept.ofCorporateServices\\n \\nSub:DeclarationpursuanttoReg30(3)(d)ofoftheSEBI(LODR)Regulations,\\n2015(ListingRegulations)asamendedfromtimetotime.\\n_________________________________________________________________________________________________\\nDECLARATION\\nI, Anirudh Sethi, Managing Director of ALEXANDER STAMPS AND COIN LIMITED  \\n(CIN- L74110GJ1992PLC093816) having Registered Of ice situated at SF-7, Silver \\nRock Complex, Nr. Dairy Teen Rasta, Manjalpur, Vadodara-390010, Gujarat, India, \\nhereby declare that, the Statutory Auditor of the Company, M/s. M Sahu & Co., \\nVadodara (FRN- 130001W) have issued Audit Report with unmodiied opinion on the \\nAudited Financial Results of the Company (Standalone) for the Financial year ended \\nMarch 31, 2024(2023-24).  \\n \\nThe declaration is given in accordance with the provisions of Regulation 33(3)(d) of \\nthe SEBI LODR, 2015 as amended time to time.  \\n \\nYou are requested to take note of above and bring the same to the notice of investors \\nand members.  \\n \\nYours Sincerely,  \\n \\nForALEXANDERSTAMPSANDCOINLIMITED\\n \\n___________________\\nAnirudhSethi\\nManagingDirector\\n(DIN:06864789) Place:Vadodara'),\n",
       " Document(metadata={'source': 'sample1.pdf', 'page': 9}, page_content=\"To,         Date: 15th July, 2024 \\nDeputy General Manager Dept. of Corporate Services, \\nBSE Limited \\nP J Towers, Dalal Street, \\nMumbai- 400021. \\n Scrip Code No.: 511463 (BSE)  \\nSubject: Submission of declaration as per Second proviso to the Regulation 33(3)(d) \\nof the SEBI (LODR) Regulation, 2015 for the Annual Audited Financial Results for the year ended 31st March, 2024.  \\nDear Sir, \\n \\nPursuant to the SEBI Notification No SE BI/ LAD-NRO/GN2016-17/001 Dated May 26th, \\n2016 and Circular No CIR/CFD/CMD/56/2 016 Dated May 27, 2016 issued by the \\nSecurities& Exchange Board of India (SEBI) on Disclosure of the Impact of Audit qualifications by the Listed Entities prescrib ed in Schedule VII read with Regulation 33 \\nand Regulation 52 of SEBI (LODR), (Amendme nt), Regulations, 2016. We submit here \\nwith enclosed statement on impact of Audit Qualifications for the financial result of the company March 31st, 2024.  \\nThis is for your kind information and record please. \\n \\nThanking you, \\nYours faithfully, For ALEXANDER STAMPS AND COIN LIMITED \\n \\n________________ \\nMr. Anirudh Sethi   \\nManaging Director \\nDIN: 06864789 \\nPlace: Vadodara                \\nANIRUDH \\nSETHIDigitally signed by \\nANIRUDH SETHI \\nDate: 2024.07.15 \\n17:52:50 +05'30'\"),\n",
       " Document(metadata={'source': 'sample1.pdf', 'page': 10}, page_content='ANNEXURE - I \\n \\nStatement on Impact of Audit Qualifications (for audit report with modified \\nopinion) submitted along-with Annual Audited Financial Results - \\n(Standalone) \\n \\nStatement on Impact of Audit Qualifications for the Financial Year ended March 31, \\n2024 \\n[See Regulation 33 / 52 of the SEBI (L ODR) (Amendment) Regulations, 2016] \\n \\nI.  \\nSl. \\nNo\\n.  \\nParticulars Audited \\nFigures (as \\nreported \\nbefore \\nadjusting \\nfor \\nqualifications) Adjusted Figures \\n(audited figures \\nafter adjusting for \\nqualification\\ns) \\n1. Turnover / Total income 36.25 36.25 \\n2. Total Expenditure 46.10 46.10 \\n3. Net Profit/(Loss) (9.85) (9.85) \\n4. Earnings Per Share (0.11) (0.11) \\n 5. Total Assets 1768.50 1768.50 \\n 6. Total Liabilities 85.38 85.38 \\n 7. Net Worth 1683.12 1683.12 \\n  \\n8. Any other financial item(s) (as felt \\nappropriate by the \\nmanagement)  \\nNIL  \\nNIL \\n \\nII.  \\nAudit Qualification (each audit qualification separately): \\n  \\na. Details of Audit Qualification:  \\nSr. \\nNo. Particulars     \\n \\n1. Non-Current Investments: \\n Observation: \\nWe draw attention to the Note No 3 to the Financial Results, with respect to the Investments as stated in Non-Current Investments amounting to INR \\n113.67/- Lacs, the requisite documents with  respect to this investment are not \\navailable with the Company, in the absence of sufficient information, the'),\n",
       " Document(metadata={'source': 'sample1.pdf', 'page': 11}, page_content=\"Management has also not provided for any Impairment for the same and in \\nturn we are unable to comment on the carrying value of Investment made by \\nthe Company and the consequent impact thereof on Other Comprehensive \\nIncome. \\n Comment of Board of Directors: \\nThe Board is going to provide sufficient  and relevant documents/data to the \\nAuditor and keep in record for future  reference. As market conditions \\nchanged, the Board has decided to invest into long term asset class for better \\nreturns. The management is also looking for compliance with the stock \\nregister within six months fro m the date of this report.  \\n2. Assessment of Income Tax Dept:-  \\n Observation: \\nWe draw attention to the Note No 5 to the Financial Results, in respect of the Outstanding Income Tax demand for the Assessment Year 2017-2018, \\namounting to INR 344.56 Lakhs, for which the Company has neither filed \\nany appeal nor created any provision in the books of accounts. \\n Comment of Board of Directors: \\nThe Company has considered this outstanding demand of Income Tax. For the same, the Board is going to take relevant action in coming month.  \\n3. Inventory valuation:  \\n Observation: \\nWe draw attention to the Note No 29 to the Financial Statements, the \\ninventory valuation as on 31.03.2024 include Inventories amounting to Rs. \\n1641.62/- Lakh valued as per Valuation report dated 8th May 2023, stating valuation as on 31st March 2023 Consequently, we had relied upon for the valuation of the inventories as on 31st March ,2024 also. we are unable to \\nascertain the impact due to deviation in inventory valuation on the Ind AS \\nFinancial statements as on 31.03.2024. \\n Comment of Board of Directors: \\nThe said amount had been obtained by the Company from Independent \\nChartered Accountant. Inventory Valuation Report has also been submitted \\nto Statutory Auditor within timeline for their reference and record.  \\nSaid observation is totally baseless and should not be part of Qualifications.  \\n \\n b. Type of Audit Qualification: Qualified Opinion / Disclaimer of Opinion / Adverse \\nOpinion \\n c. Frequency of qualification: Whether appeared first time / repetitive / since how \\nlong continuing \\n  \\nd. For Audit Qualification(s) where the impact is quantified by the auditor, \\nManagement's Views:\"),\n",
       " Document(metadata={'source': 'sample1.pdf', 'page': 12}, page_content='Sr. \\nNo. Particulars     \\n \\n1. Non-Current Investments: \\n Observation: \\nWe draw attention to the Note No 3 to the Financial Results, with respect to \\nthe Investments as stated in Non-Current Investments amounting to INR \\n113.67/- Lacs, the requisite documents with  respect to this investment are not \\navailable with the Company, in the absence of sufficient information, the \\nManagement has also not provided for any Impairment for the same and in turn we are unable to comment on the carrying value of Investment made by the Company and the consequent impact thereof on Other Comprehensive \\nIncome. \\n Comment of Board of Directors: \\nThe Board is going to provide sufficient  and relevant documents/data to the \\nAuditor and keep in record for future  reference. As market conditions \\nchanged, the Board has decided to invest into long term asset class for better \\nreturns. The management is also looking for compliance with the stock \\nregister within six months fro m the date of this report.  \\n2. Assessment of Income Tax Dept:-  \\n Observation: \\nWe draw attention to the Note No 5 to the Financial Results, in respect of the Outstanding Income Tax demand for the Assessment Year 2017-2018, amounting to INR 344.56 Lakhs, for which the Company has neither filed \\nany appeal nor created any provision in the books of accounts. \\n Comment of Board of Directors: \\nThe Company has considered this outstanding demand of Income Tax. For the same, the Board is going to take relevant action in coming month.  \\n3. Inventory valuation:  \\n Observation: \\nWe draw attention to the Note No 29 to the Financial Statements, the inventory valuation as on 31.03.2024 include Inventories amounting to Rs. \\n1641.62/- Lakh valued as per Valuation report dated 8th May 2023, stating \\nvaluation as on 31st March 2023 Consequently, we had relied upon for the valuation of the inventories as on 31st March ,2024 also. we are unable to ascertain the impact due to deviation in inventory valuation on the Ind AS \\nFinancial statements as on 31.03.2024. \\n Comment of Board of Directors: \\nThe said amount had been obtained by the Company from Independent Chartered Accountant. Inventory Valuation Report has also been submitted to Statutory Auditor within timeline for their reference and record.  \\nSaid observation is totally baseless and should not be part of Qualifications.'),\n",
       " Document(metadata={'source': 'sample1.pdf', 'page': 13}, page_content=\"e. For Audit Qualification(s) where the impa ct is not quantified by the auditor: \\n  \\n(i) Management's estimation on the impact of audit qualification: There \\nwill be negligible impact on the overall financials of the Company which \\nwill be non-monitory in nature.  \\n  \\n(ii) If management is unable to estimate the impact, reasons for the same: \\nNA \\n  \\n(iii) Auditors' Comments on (i) or (ii) above: NA \\n  \\n \\nII\\nI.  \\nSignatories: \\n      Mr. Anirudh Sethi      Managing Director    DIN: 06864789 \\nPlace: Vadodara Date: 15/07/2024 \\nANIRUD\\nH SETHIDigitally signed by \\nANIRUDH SETHI Date: 2024.07.15 \\n17:53:32 +05'30'\")]"
      ]
     },
     "execution_count": 39,
     "metadata": {},
     "output_type": "execute_result"
    }
   ],
   "source": [
    "docs"
   ]
  },
  {
   "cell_type": "code",
   "execution_count": 40,
   "metadata": {},
   "outputs": [
    {
     "name": "stdout",
     "output_type": "stream",
     "text": [
      "(b) Diluted                 (0.0084)                            (0.0003)                  0.01             (0.011)                     (0.02)\n",
      " NOTES :  \n",
      "1\n",
      "2\n",
      "3\n",
      "4\n",
      "5\n",
      "6\n",
      "For Alexander Stamps & Coin Limited\n",
      "Anirudh Sethi\n",
      "Managing Director\n",
      "DIN:06864789\n",
      "Place: Vadodara Place: Vadodara\n",
      "Date: 24/05/2024 Date: 24/05/2024STATEMENT OF STANDALONE AUDITED FINANCIAL RESULTS FOR QUARTER AND YEAR ENDED MARCH 31 2024.\n",
      "The above result has been audited by Statutory auditor, recommended by audit committee and approved by the Board of Director of the CompanyAlexander Stamps & Coin Limited\n",
      "CIN: L74110GJ1992PLC083816\n",
      "Regd.Office : SF-7, Silver Rock  Complex, Nr. Dairy Teen Rasta, Manjalpur, Vadodara-390010, Gujarat, India.\n",
      "Quarter Ended Year Ended\n",
      "Due to non-payment of income tax demand and filling of appeal against the demand for the Assessment Year 2017-2018, CBDT Freeze the bank\n",
      "account of company. Investments as stated in Non-Current Investments amounting to INR 113.67/- Lakhs, the requisite documents with respect to this investment are\n",
      "not available with the Company, in the absence of sufficient information, the Management has also not provided for any Impairment for the same\n",
      "and in turn we are unable to comment on the carrying value of Investment made by the Company and the consequent impact thereof on Other\n",
      "Comprehensive Income.Sr \n",
      "NoParticulars \n",
      "The previous period figures have been regrouped/reclassified wherever necessary to confirm to the classification for this quarter.\n",
      "Outstanding Income Tax demand for the Assessment Year 2017-2018, amounting to INR 344.56 Lakhs, for which the Company has neither filed\n",
      "any appeal nor created any provision in the books of accounts.\n",
      "The inventoryvaluation amounting to Rs.1641.62/- Lakh valued as per Valuation report dated 16th May2023, stating valuation as on 31st March\n",
      "2023. Consequently, we had relied upon for the valuation of the inventories as on 31st March ,2024 also.Annexure B\n"
     ]
    }
   ],
   "source": [
    "print(docs[6].page_content)"
   ]
  },
  {
   "cell_type": "code",
   "execution_count": 15,
   "metadata": {},
   "outputs": [
    {
     "name": "stderr",
     "output_type": "stream",
     "text": [
      "d:\\bse-orderly\\virtual_env\\lib\\site-packages\\sentence_transformers\\cross_encoder\\CrossEncoder.py:11: TqdmWarning: IProgress not found. Please update jupyter and ipywidgets. See https://ipywidgets.readthedocs.io/en/stable/user_install.html\n",
      "  from tqdm.autonotebook import tqdm, trange\n"
     ]
    }
   ],
   "source": [
    "# Embeddings model \n",
    "embedding = HuggingFaceEmbeddings(model_name = 'BAAI/bge-base-en-v1.5')"
   ]
  },
  {
   "cell_type": "markdown",
   "metadata": {},
   "source": [
    "CHROMA VECTOR DB"
   ]
  },
  {
   "cell_type": "code",
   "execution_count": 41,
   "metadata": {},
   "outputs": [],
   "source": [
    "vectorstore = Chroma.from_documents(documents = docs, embedding=embedding)"
   ]
  },
  {
   "cell_type": "code",
   "execution_count": 17,
   "metadata": {},
   "outputs": [],
   "source": [
    "from langchain_core.prompts import ChatPromptTemplate\n",
    "prompt_template = ChatPromptTemplate.from_template(\n",
    "    \"\"\"\n",
    "    You are a financial assistant that generates responses to queries based on provided financial reports. Answer the following question strictly based on the given context. Do not add any additional information or context.\n",
    "\n",
    "    Format your output as follows:\n",
    "    <format>{format}</format>\n",
    "    If information is not retrievable, simply state 'Not Retrievable.'\n",
    "\n",
    "    <context>{context}</context>\n",
    "    Question: {input}\n",
    "    \"\"\"\n",
    ")"
   ]
  },
  {
   "cell_type": "code",
   "execution_count": 21,
   "metadata": {},
   "outputs": [],
   "source": [
    "## Context is autofilled with the help of chains \n",
    "# chains are sequence of calls to llm, tool or preprocessing step "
   ]
  },
  {
   "cell_type": "code",
   "execution_count": 42,
   "metadata": {},
   "outputs": [],
   "source": [
    "from langchain.chains.combine_documents import create_stuff_documents_chain\n",
    "from langchain.chains import create_retrieval_chain\n",
    "\n",
    "retriever = vectorstore.as_retriever()\n",
    "document_chain = create_stuff_documents_chain(llm = groq_model, prompt = prompt_template)\n",
    "bot = create_retrieval_chain(retriever, document_chain)"
   ]
  },
  {
   "cell_type": "code",
   "execution_count": 43,
   "metadata": {},
   "outputs": [],
   "source": [
    "financial_result_output = \"\"\"\n",
    "    Company : \n",
    "    Total Income/ Revenue : \n",
    "    Total Profit before Tax :\n",
    "    Total Profit after Tax : \n",
    "    \"\"\"\n",
    "\n",
    "prompt = 'What is the Total Income/Revenue, Profit before and after tax of the company in the latest quarter and the previous quarter? Give consolidated results.'\n",
    "response = bot.invoke({'format' : financial_result_output, 'input' : prompt})"
   ]
  },
  {
   "cell_type": "code",
   "execution_count": 44,
   "metadata": {},
   "outputs": [
    {
     "name": "stdout",
     "output_type": "stream",
     "text": [
      "<format>\n",
      "Company : Brahmayya&co• \n",
      "Total Income/ Revenue : Not Retrievable for the latest quarter and Rs. 6,563 Lakhs for the previous quarter\n",
      "Total Profit before Tax : Not Retrievable for the latest quarter and Rs. 1,175 Lakhs for the previous quarter\n",
      "Total Profit after Tax : Not Retrievable for the latest quarter and Rs. 1,175 Lakhs for the previous quarter\n",
      "</format>\n"
     ]
    }
   ],
   "source": [
    "print(response['answer'])"
   ]
  },
  {
   "cell_type": "code",
   "execution_count": null,
   "metadata": {},
   "outputs": [],
   "source": []
  },
  {
   "cell_type": "code",
   "execution_count": 76,
   "metadata": {},
   "outputs": [],
   "source": [
    "from langchain.chains.combine_documents import create_stuff_documents_chain\n",
    "\n",
    "document_chain = create_stuff_documents_chain(llm=groq_model, prompt=result_prompt)\n",
    "# this chain will put the context retrieved from the model into the prompt and the model will generate a response from it"
   ]
  },
  {
   "cell_type": "code",
   "execution_count": 77,
   "metadata": {},
   "outputs": [
    {
     "data": {
      "text/plain": [
       "VectorStoreRetriever(tags=['Chroma', 'HuggingFaceEmbeddings'], vectorstore=<langchain_chroma.vectorstores.Chroma object at 0x000001C6636A7AF0>)"
      ]
     },
     "execution_count": 77,
     "metadata": {},
     "output_type": "execute_result"
    }
   ],
   "source": [
    "from langchain.chains import create_retrieval_chain\n",
    "# This retriver is an interface to the vectorstore. It retrieves the documents from the document vector store using a similarity function and apends it into the prompt\n",
    "retriever = vectorstore.as_retriever() # kwargs = {'k' : top_k} \n",
    "retriever"
   ]
  },
  {
   "cell_type": "code",
   "execution_count": 70,
   "metadata": {},
   "outputs": [],
   "source": [
    "agent = create_retrieval_chain(retriever, document_chain)"
   ]
  },
  {
   "cell_type": "code",
   "execution_count": 78,
   "metadata": {},
   "outputs": [],
   "source": [
    "response = agent.invoke({\n",
    "    'input' : 'What is the Total Income/Revenue that the company made in the latest quarter in comparison with the last quarter. What is its Net Proft before or after tax. '\n",
    "})"
   ]
  },
  {
   "cell_type": "code",
   "execution_count": 79,
   "metadata": {},
   "outputs": [
    {
     "name": "stdout",
     "output_type": "stream",
     "text": [
      "The company made a total income of Rs. 685.00 lakhs in the latest quarter (Half Year Ended 31-Mar-24) compared to Rs. 836.70 lakhs in the last quarter (Half Year Ended 30-Sep-23).\n",
      "\n",
      "The net profit before tax for the latest quarter is Rs. 37.63 lakhs and the net profit after tax is Rs. 26.81 lakhs.\n"
     ]
    }
   ],
   "source": [
    "print(response['answer'])"
   ]
  },
  {
   "cell_type": "markdown",
   "metadata": {},
   "source": [
    "**Actor and Critic Agent Architecture** "
   ]
  },
  {
   "cell_type": "code",
   "execution_count": 2,
   "metadata": {},
   "outputs": [],
   "source": [
    "import os\n",
    "from dotenv import load_dotenv\n",
    "load_dotenv()\n",
    "os.environ['groq_key'] = os.getenv('GROQ_KEY')"
   ]
  },
  {
   "cell_type": "code",
   "execution_count": 22,
   "metadata": {},
   "outputs": [],
   "source": [
    "from langchain_core.messages import AIMessage, BaseMessage, HumanMessage, SystemMessage\n",
    "from langchain_core.prompts import ChatPromptTemplate, MessagesPlaceholder\n",
    "from langchain_groq import ChatGroq\n",
    "from typing import Annotated, Sequence, TypedDict, Literal\n",
    "from langgraph.graph import StateGraph, START, END\n",
    "from langgraph.graph.message import add_messages\n",
    "from langchain_huggingface import HuggingFaceEmbeddings"
   ]
  },
  {
   "cell_type": "code",
   "execution_count": 7,
   "metadata": {},
   "outputs": [
    {
     "name": "stderr",
     "output_type": "stream",
     "text": [
      "d:\\bse-orderly\\virtual_env\\lib\\site-packages\\sentence_transformers\\cross_encoder\\CrossEncoder.py:11: TqdmWarning: IProgress not found. Please update jupyter and ipywidgets. See https://ipywidgets.readthedocs.io/en/stable/user_install.html\n",
      "  from tqdm.autonotebook import tqdm, trange\n"
     ]
    }
   ],
   "source": [
    "embedding = HuggingFaceEmbeddings(model_name = 'BAAI/bge-base-en-v1.5')"
   ]
  },
  {
   "cell_type": "code",
   "execution_count": 8,
   "metadata": {},
   "outputs": [],
   "source": [
    "from langchain_community.document_loaders import PyPDFLoader\n",
    "loader = PyPDFLoader('sample.pdf')\n",
    "document = loader.load()"
   ]
  },
  {
   "cell_type": "code",
   "execution_count": 11,
   "metadata": {},
   "outputs": [],
   "source": [
    "from langchain_text_splitters import RecursiveCharacterTextSplitter\n",
    "text_splitter = RecursiveCharacterTextSplitter(chunk_size = 2000, chunk_overlap = 200)\n",
    "docs = text_splitter.split_documents(document)"
   ]
  },
  {
   "cell_type": "code",
   "execution_count": 12,
   "metadata": {},
   "outputs": [],
   "source": [
    "from langchain_chroma import Chroma\n",
    "vectorstore = Chroma.from_documents(documents = docs, embedding=embedding)"
   ]
  },
  {
   "cell_type": "code",
   "execution_count": 18,
   "metadata": {},
   "outputs": [],
   "source": [
    "from langchain.tools.retriever import create_retriever_tool\n",
    "\n",
    "## To use a RAG model in Actor-Critic model, we need to build a retriever tool\n",
    "retriever = vectorstore.as_retriever()\n",
    "retriever_tool = create_retriever_tool(\n",
    "    retriever, \n",
    "    name=\"Financial_Info_Retriver\", \n",
    "    description = \"Retrieve information from the provided financial documents like quarterly financial results and order receipt.\"\n",
    ")\n",
    "tools = [retriever_tool]"
   ]
  },
  {
   "cell_type": "code",
   "execution_count": 21,
   "metadata": {},
   "outputs": [],
   "source": [
    "from langchain_core.messages import BaseMessage\n",
    "\n",
    "class AgentState(TypedDict):\n",
    "    messages : Annotated[Sequence[BaseMessage], add_messages]"
   ]
  },
  {
   "cell_type": "code",
   "execution_count": null,
   "metadata": {},
   "outputs": [],
   "source": [
    "from langchain_core.prompts import PromptTemplate\n",
    "\n",
    "def grader(state : AgentState) -> Literal[\"generate\", \"rewrite\"]:\n",
    "    llm = ChatGroq(model='llama3-8b-8192', api_key=os.environ['groq_key'], streaming=True)\n",
    "    llm_with_tool = llm.with_stru\n",
    "\n",
    "    \n",
    "\n"
   ]
  },
  {
   "cell_type": "code",
   "execution_count": 1,
   "metadata": {},
   "outputs": [
    {
     "name": "stdout",
     "output_type": "stream",
     "text": [
      "^C\n"
     ]
    },
    {
     "name": "stdout",
     "output_type": "stream",
     "text": [
      "Loaded detection model vikp/surya_det3 on device cpu with dtype torch.float32\n",
      "Loaded detection model vikp/surya_layout3 on device cpu with dtype torch.float32\n",
      "Loaded reading order model vikp/surya_order on device cpu with dtype torch.float32\n",
      "Loaded recognition model vikp/surya_rec on device cpu with dtype torch.float32\n",
      "Loaded texify model to cpu with torch.float32 dtype\n",
      "Saved markdown to the results/sample1 folder\n"
     ]
    },
    {
     "name": "stderr",
     "output_type": "stream",
     "text": [
      "\n",
      "Detecting bboxes:   0%|          | 0/2 [00:00<?, ?it/s]\n",
      "Detecting bboxes:  50%|█████     | 1/2 [00:27<00:27, 27.55s/it]\n",
      "Detecting bboxes: 100%|██████████| 2/2 [00:33<00:00, 14.66s/it]\n",
      "Detecting bboxes: 100%|██████████| 2/2 [00:33<00:00, 16.59s/it]\n",
      "\n",
      "Detecting bboxes:   0%|          | 0/1 [00:00<?, ?it/s]\n",
      "Detecting bboxes: 100%|██████████| 1/1 [00:18<00:00, 18.90s/it]\n",
      "Detecting bboxes: 100%|██████████| 1/1 [00:18<00:00, 18.90s/it]\n",
      "\n",
      "Finding reading order:   0%|          | 0/1 [00:00<?, ?it/s]\n",
      "Finding reading order: 100%|██████████| 1/1 [00:38<00:00, 38.40s/it]\n",
      "Finding reading order: 100%|██████████| 1/1 [00:38<00:00, 38.40s/it]\n"
     ]
    }
   ],
   "source": [
    "!marker_single sample1.pdf results/ --batch_multiplier 2 --max_pages 10 --langs English"
   ]
  },
  {
   "cell_type": "code",
   "execution_count": null,
   "metadata": {},
   "outputs": [],
   "source": []
  },
  {
   "cell_type": "code",
   "execution_count": null,
   "metadata": {},
   "outputs": [],
   "source": []
  },
  {
   "cell_type": "code",
   "execution_count": null,
   "metadata": {},
   "outputs": [],
   "source": []
  },
  {
   "cell_type": "code",
   "execution_count": null,
   "metadata": {},
   "outputs": [],
   "source": []
  }
 ],
 "metadata": {
  "kernelspec": {
   "display_name": "virtual_env",
   "language": "python",
   "name": "python3"
  },
  "language_info": {
   "codemirror_mode": {
    "name": "ipython",
    "version": 3
   },
   "file_extension": ".py",
   "mimetype": "text/x-python",
   "name": "python",
   "nbconvert_exporter": "python",
   "pygments_lexer": "ipython3",
   "version": "3.10.4"
  }
 },
 "nbformat": 4,
 "nbformat_minor": 2
}
